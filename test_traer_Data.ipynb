{
 "cells": [
  {
   "cell_type": "code",
   "execution_count": 1,
   "metadata": {},
   "outputs": [],
   "source": [
    "from modelos import CondicionesManager, CondicionesIniciales,DatosIngresadosCineticos,DatosCineticosMananger"
   ]
  },
  {
   "cell_type": "code",
   "execution_count": 2,
   "metadata": {},
   "outputs": [],
   "source": [
    "from funciones import *\n",
    "funciones = Funciones()\n",
    "datos_cineticos = DatosIngresadosCineticos()\n",
    "funciones_cineticas = DatosCineticosMananger()\n"
   ]
  },
  {
   "cell_type": "code",
   "execution_count": 14,
   "metadata": {},
   "outputs": [
    {
     "name": "stdout",
     "output_type": "stream",
     "text": [
      "SELECT datos_ingresados_cineticos.id AS datos_ingresados_cineticos_id, datos_ingresados_cineticos.tiempo AS datos_ingresados_cineticos_tiempo, datos_ingresados_cineticos.concentracion AS datos_ingresados_cineticos_concentracion, datos_ingresados_cineticos.otra_propiedad AS datos_ingresados_cineticos_otra_propiedad, datos_ingresados_cineticos.conversion_reactivo_limitante AS datos_ingresados_cineticos_conversion_reactivo_limitante, datos_ingresados_cineticos.tipo_especie AS datos_ingresados_cineticos_tipo_especie, datos_ingresados_cineticos.id_condiciones_iniciales AS datos_ingresados_cineticos_id_condiciones_iniciales, datos_ingresados_cineticos.nombre_data AS datos_ingresados_cineticos_nombre_data, datos_ingresados_cineticos.nombre_reaccion AS datos_ingresados_cineticos_nombre_reaccion, datos_ingresados_cineticos.especie_quimica AS datos_ingresados_cineticos_especie_quimica \n",
      "FROM datos_ingresados_cineticos\n",
      "SELECT datos_ingresados_cineticos.id AS datos_ingresados_cineticos_id, datos_ingresados_cineticos.tiempo AS datos_ingresados_cineticos_tiempo, datos_ingresados_cineticos.concentracion AS datos_ingresados_cineticos_concentracion, datos_ingresados_cineticos.otra_propiedad AS datos_ingresados_cineticos_otra_propiedad, datos_ingresados_cineticos.conversion_reactivo_limitante AS datos_ingresados_cineticos_conversion_reactivo_limitante, datos_ingresados_cineticos.tipo_especie AS datos_ingresados_cineticos_tipo_especie, datos_ingresados_cineticos.id_condiciones_iniciales AS datos_ingresados_cineticos_id_condiciones_iniciales, datos_ingresados_cineticos.nombre_data AS datos_ingresados_cineticos_nombre_data, datos_ingresados_cineticos.nombre_reaccion AS datos_ingresados_cineticos_nombre_reaccion, datos_ingresados_cineticos.especie_quimica AS datos_ingresados_cineticos_especie_quimica \n",
      "FROM datos_ingresados_cineticos \n",
      "WHERE datos_ingresados_cineticos.nombre_data = ?\n"
     ]
    }
   ],
   "source": [
    "# Obtener la consulta\n",
    "datos_query = funciones_cineticas.get_datos_1()\n",
    "print(datos_query)\n",
    "\n",
    "datos_query_1 = funciones_cineticas.get_datos_por_nombre(\"01_DisenoReactores_Roman_p2r_p25\")\n",
    "print(datos_query_1)"
   ]
  },
  {
   "cell_type": "code",
   "execution_count": 19,
   "metadata": {},
   "outputs": [
    {
     "name": "stdout",
     "output_type": "stream",
     "text": [
      "    id      tiempo  concentracion otra_propiedad  \\\n",
      "0    1    0.000000         0.0170                  \n",
      "1    2    5.446623         0.0153                  \n",
      "2    3   12.254902         0.0136                  \n",
      "3    4   21.008403         0.0119                  \n",
      "4    5   32.679739         0.0102                  \n",
      "5    6   49.019608         0.0085                  \n",
      "6    7   73.529412         0.0068                  \n",
      "7    8  114.379085         0.0051                  \n",
      "8    9  196.078431         0.0034                  \n",
      "9   10  441.176471         0.0017                  \n",
      "10  11    0.000000       100.0000            0.0   \n",
      "\n",
      "    conversion_reactivo_limitante        tipo_especie  \\\n",
      "0                             0.0  reactivo_limitante   \n",
      "1                             0.1  reactivo_limitante   \n",
      "2                             0.2  reactivo_limitante   \n",
      "3                             0.3  reactivo_limitante   \n",
      "4                             0.4  reactivo_limitante   \n",
      "5                             0.5  reactivo_limitante   \n",
      "6                             0.6  reactivo_limitante   \n",
      "7                             0.7  reactivo_limitante   \n",
      "8                             0.8  reactivo_limitante   \n",
      "9                             0.9  reactivo_limitante   \n",
      "10                            0.0               Dummy   \n",
      "\n",
      "    id_condiciones_iniciales                       nombre_data  \\\n",
      "0                          1  01_DisenoReactores_Roman_p2r_p25   \n",
      "1                          1  01_DisenoReactores_Roman_p2r_p25   \n",
      "2                          1  01_DisenoReactores_Roman_p2r_p25   \n",
      "3                          1  01_DisenoReactores_Roman_p2r_p25   \n",
      "4                          1  01_DisenoReactores_Roman_p2r_p25   \n",
      "5                          1  01_DisenoReactores_Roman_p2r_p25   \n",
      "6                          1  01_DisenoReactores_Roman_p2r_p25   \n",
      "7                          1  01_DisenoReactores_Roman_p2r_p25   \n",
      "8                          1  01_DisenoReactores_Roman_p2r_p25   \n",
      "9                          1  01_DisenoReactores_Roman_p2r_p25   \n",
      "10                  10000000                         DummyData   \n",
      "\n",
      "   nombre_reaccion especie_quimica  \n",
      "0            2A=>R               A  \n",
      "1            2A=>R               A  \n",
      "2            2A=>R               A  \n",
      "3            2A=>R               A  \n",
      "4            2A=>R               A  \n",
      "5            2A=>R               A  \n",
      "6            2A=>R               A  \n",
      "7            2A=>R               A  \n",
      "8            2A=>R               A  \n",
      "9            2A=>R               A  \n",
      "10       DummyData       DummyData  \n"
     ]
    }
   ],
   "source": [
    "# Leer la tabla 'datos_ingresados_cineticos' en un DataFrame de pandas\n",
    "df = pd.read_sql(datos_query.statement, datos_query_1.session.bind)\n",
    "\n",
    "# Ahora puedes procesar tus datos con pandas\n",
    "print(df.head(30))"
   ]
  }
 ],
 "metadata": {
  "kernelspec": {
   "display_name": "Python 3",
   "language": "python",
   "name": "python3"
  },
  "language_info": {
   "codemirror_mode": {
    "name": "ipython",
    "version": 3
   },
   "file_extension": ".py",
   "mimetype": "text/x-python",
   "name": "python",
   "nbconvert_exporter": "python",
   "pygments_lexer": "ipython3",
   "version": "3.11.3"
  }
 },
 "nbformat": 4,
 "nbformat_minor": 2
}
