{
 "cells": [
  {
   "cell_type": "code",
   "execution_count": null,
   "metadata": {},
   "outputs": [],
   "source": [
    "import os\n",
    "import sys\n",
    "import subprocess\n",
    "from modelos import *\n",
    "from repositorios import *\n",
    "import pandas as pd\n",
    "import matplotlib.image as mpimg\n",
    "from datetime import datetime\n",
    "\n",
    "import matplotlib.pyplot as plt\n",
    "from matplotlib.figure import Figure\n",
    "\n",
    "from procesar_datos_vista import Ui_MainWindow\n",
    "from repositorios import *\n",
    "\n",
    "from funciones import *\n",
    "from modelos_metodo_integral import *\n",
    "from modelos_metodo_arrhenius import *\n",
    "from componentes_auxiliares import *\n",
    "\n",
    "#otras ventanas\n",
    "from crud_db_controlador import PantallaCrud\n",
    "from flujo_datos_controlador import FlujoDatos\n",
    "\n",
    "# metodos comunes\n",
    "from servicios import *\n",
    "\n",
    "\n",
    "# metodos comunes\n",
    "from servicios import *"
   ]
  },
  {
   "cell_type": "code",
   "execution_count": null,
   "metadata": {},
   "outputs": [],
   "source": [
    "# manejadores de base\n",
    "RegistroDataExperimentalManejador = RegistroDataExperimentalManejador()\n",
    "CondicionesInicialesManejador = CondicionesInicialesManejador()\n",
    "DatosCineticosManejador = DatosCineticosManejador()\n",
    "ReaccionQuimicaManejador = ReaccionQuimicaManejador()\n",
    "RegistroUnidadesManejador = RegistroUnidadesManejador()\n",
    "RegistroDatosSalidaManejador = RegistroDatosSalidaManejador()  \n",
    "RegistroDatosSalidaArrheniusManejador = RegistroDatosSalidaArrheniusManejador()   \n",
    "#traer funciones\n",
    "funciones = Funciones()\n",
    "modelos_metodo_integral = MetodoIntegralGraficador()\n",
    "modelos_metodo_arrhenius = ArrheniusGraficador()\n",
    "\n",
    "# Inicializar la variable para almacenar el DataFrame\n",
    "df_datos_cineticos_listos = None\n",
    "# metodos comunes refactorizados\n",
    "metodos_comunes = Servicios()\n",
    "componentes_auxiliares = ComponentesAuxiliares()"
   ]
  },
  {
   "cell_type": "code",
   "execution_count": null,
   "metadata": {},
   "outputs": [],
   "source": [
    "\n",
    "filtro_reaccion = {'nombre_reaccion': 'A+B=>R+S'}\n",
    "reaccion_quimica = ReaccionQuimicaManejador.consultar(filtros=filtro_reaccion)\n",
    "df_reaccion_quimica = pd.DataFrame.from_records([reaccion.__dict__ for reaccion in reaccion_quimica])    \n",
    "print(df_reaccion_quimica)   \n",
    "filtros_data = {\"nombre_data\": '01_DisenoReactores_Roman_p7r_p91'}\n",
    "datos_cineticos = DatosCineticosManejador.consultar(filtros=filtros_data)\n",
    "df_datos_cineticos = pd.DataFrame.from_records([datos.__dict__ for datos in datos_cineticos])\n",
    "print(df_datos_cineticos)\n",
    "print(\"Longitud del DataFrame\" , df_datos_cineticos.shape[0])\n",
    "\n",
    "\n",
    "\n"
   ]
  },
  {
   "cell_type": "code",
   "execution_count": null,
   "metadata": {},
   "outputs": [],
   "source": [
    "# Aplicar los filtros\n",
    "filtros_data = {\"nombre_data\": '01_DisenoReactores_Roman_p7r_p91', \"tipo_especie\": 'reactivo_limitante'}\n",
    "datos_cineticos_listos = DatosCineticosManejador.consultar(filtros=filtros_data)\n",
    "\n",
    "# Convertir los datos a un DataFrame\n",
    "df_datos_cineticos_listos = pd.DataFrame.from_records([datos.__dict__ for datos in datos_cineticos_listos])\n",
    "\n",
    "# Filtrar por tipo_especie después de cargar los datos\n",
    "df_datos_cineticos_listos = df_datos_cineticos_listos[df_datos_cineticos_listos['tipo_especie'] == 'reactivo_limitante']\n",
    "\n",
    "# Ordenar el DataFrame por las columnas deseadas y reasignar\n",
    "df_datos_cineticos_listos = df_datos_cineticos_listos.sort_values(by=[\"tiempo\", \"especie_quimica\", \"tipo_especie\"])\n",
    "\n",
    "# Seleccionar las columnas deseadas\n",
    "df_datos_cineticos_seleccionado = df_datos_cineticos_listos[['tiempo', 'especie_quimica', 'tipo_especie','concentracion','conversion_reactivo_limitante']]\n",
    "\n",
    "# Imprimir el DataFrame seleccionado\n",
    "print(df_datos_cineticos_seleccionado)\n",
    "\n",
    "# Imprimir la longitud del DataFrame seleccionado\n",
    "print(\"Longitud del DataFrame seleccionado:\", df_datos_cineticos_seleccionado.shape[0])\n"
   ]
  },
  {
   "cell_type": "code",
   "execution_count": null,
   "metadata": {},
   "outputs": [],
   "source": [
    "#Obtener coeficientes\n",
    "coeficiente_a_values = df_reaccion_quimica.loc[\n",
    "    df_reaccion_quimica['tipo_especie'] == 'reactivo_limitante', \n",
    "    'coeficiente_estequiometrico'\n",
    "].values\n",
    "\n",
    "coeficiente_b_values = df_reaccion_quimica.loc[\n",
    "    df_reaccion_quimica['tipo_especie'] == 'reactivo', \n",
    "    'coeficiente_estequiometrico'\n",
    "].values\n",
    "\n",
    "coeficiente_a = coeficiente_a_values[0] if coeficiente_a_values.size > 0 else 1\n",
    "coeficiente_b = coeficiente_b_values[0] if coeficiente_b_values.size > 0 else 1\n",
    "\n",
    "print(\"Coeficiente A:\", coeficiente_a)\n",
    "print(\"Coeficiente B:\", coeficiente_b)"
   ]
  },
  {
   "cell_type": "markdown",
   "metadata": {},
   "source": [
    "ajustar_modelo_cinetico_bimolecular(data_cinetica, columna_tiempo, columna_concentracion_reactivo_limitante, estimacion_inicial_k, n, coeficiente_a, coeficiente_b, datos_auxiliares_no_filtrados, estimacion_inicial_A0=None, m=None, estimacion_inicial_B0=None, columna_conversion_reactivo_limitante=None)\n"
   ]
  },
  {
   "cell_type": "code",
   "execution_count": null,
   "metadata": {},
   "outputs": [],
   "source": [
    "print(df_datos_cineticos_seleccionado.columns)\n",
    "print(df_datos_cineticos_seleccionado.head())"
   ]
  },
  {
   "cell_type": "markdown",
   "metadata": {},
   "source": [
    "amcb(\n",
    "            data_cinetica, columna_tiempo, columna_concentracion_reactivo_limitante, estimacion_inicial_k, n, coeficiente_a, coeficiente_b,\n",
    "            datos_auxiliares_no_filtrados, estimacion_inicial_A0=None, m=None, estimacion_inicial_B0=None):"
   ]
  },
  {
   "cell_type": "code",
   "execution_count": null,
   "metadata": {},
   "outputs": [],
   "source": [
    "MetodoIntegralAjustador.ajustar_modelo_cinetico_bimolecular(df_datos_cineticos_seleccionado,'tiempo','concentracion', 0.05, 1, coeficiente_a, coeficiente_b, df_datos_cineticos)"
   ]
  }
 ],
 "metadata": {
  "kernelspec": {
   "display_name": "Python 3",
   "language": "python",
   "name": "python3"
  },
  "language_info": {
   "codemirror_mode": {
    "name": "ipython",
    "version": 3
   },
   "file_extension": ".py",
   "mimetype": "text/x-python",
   "name": "python",
   "nbconvert_exporter": "python",
   "pygments_lexer": "ipython3",
   "version": "3.11.3"
  }
 },
 "nbformat": 4,
 "nbformat_minor": 2
}
